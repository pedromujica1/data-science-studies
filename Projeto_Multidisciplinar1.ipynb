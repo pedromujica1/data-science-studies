{
 "cells": [
  {
   "cell_type": "markdown",
   "metadata": {},
   "source": [
    "# Aula 23 - Projeto Multidisciplinar I"
   ]
  },
  {
   "cell_type": "markdown",
   "metadata": {},
   "source": [
    "## Apresentação e discussão"
   ]
  },
  {
   "cell_type": "markdown",
   "metadata": {},
   "source": [
    "O Projeto Multidisciplinar I consiste na simulação de dados envolvendo pesos e alturas de indivíduos, calculando o IMC (índice de Massa Corporal) e relacionando com dados simulados sobre existência de problemas cardíacos. A simulação deverá contar com dados pseudoaleatórios gerados por simulação computacional e deverá haver correspondência entre problemas cardiácos com a medida do IMC. Ou seja, iremos supor que exista uma correspondência óbvia entre as medidas (modelada matematicamente por equção e coeificentes arbitrariamente definidos). Para cada sexo (sendo eles definidos de forma aleatória).\n",
    "\n",
    "Você, portanto, simulará via randomização (aleatoriedade) as alturas dentro de uma faixa bem definida. Em seguida, aplicará uma equação que determine, com algum grau de aleatoriedade, os pesos dos indivíduos. Logo depois, calculará o IMC e definirá para cada indivíduo a existência (sim ou não) de problemas cardiácos, ambos com algum grau mnimo de correspondência com o IMC.\n",
    "\n",
    "Ao final, faça as análises necessárias com medidas de dispersão e de tendência central. Crie as funções para tal. E interprete os IMCs obtido conforme WHO (Organização Mundial da Saúde).\n",
    "\n",
    "Os dados devem estar reunidos em uma tabela. Todas as técnicas aplicadas aqui são vistas na Aula 22."
   ]
  },
  {
   "cell_type": "markdown",
   "metadata": {},
   "source": [
    "### Importando bibliotecas "
   ]
  },
  {
   "cell_type": "code",
   "execution_count": 14,
   "metadata": {
    "scrolled": true
   },
   "outputs": [],
   "source": [
    "import numpy as np #Importando biblioteca numpy\n",
    "from random import * #Importando biblioteca para randommização\n",
    "import pandas as pd #Importando Pandas\n",
    "from sympy import * #Importando biblioteca para escrever equações\n",
    "from statistics import *"
   ]
  },
  {
   "cell_type": "markdown",
   "metadata": {},
   "source": [
    "### Gerando alturas"
   ]
  },
  {
   "cell_type": "code",
   "execution_count": 5,
   "metadata": {},
   "outputs": [],
   "source": [
    "#Parâmetros iniciais\n",
    "amostras = 3000 #Tamanho da amostra\n",
    "media= 1.73\n",
    "desvio = 0.30\n",
    "\n",
    "\n",
    "#Gerando alturas aleatórias \n",
    "alturas = np.random.normal(media,desvio,amostras)\n",
    "alturas = alturas.tolist()"
   ]
  },
  {
   "cell_type": "markdown",
   "metadata": {},
   "source": [
    "### Gerando Pesos"
   ]
  },
  {
   "cell_type": "code",
   "execution_count": 9,
   "metadata": {},
   "outputs": [
    {
     "data": {
      "text/latex": [
       "$\\displaystyle 50 alturas_{i} + \\left|{n_{i}}\\right|$"
      ],
      "text/plain": [
       "50*alturas_i + Abs(n_i)"
      ]
     },
     "execution_count": 9,
     "metadata": {},
     "output_type": "execute_result"
    }
   ],
   "source": [
    "#Equação para gerar pesos\n",
    "x1 = symbols('alturas_i')\n",
    "x2 = symbols('n_i')\n",
    "equation = symbols('pesos')\n",
    "\n",
    "#Abs para evitar números aleatórios negativos\n",
    "equation = x1*50 + abs(x2)\n",
    "equation"
   ]
  },
  {
   "cell_type": "code",
   "execution_count": 6,
   "metadata": {},
   "outputs": [
    {
     "data": {
      "text/plain": [
       "3000"
      ]
     },
     "execution_count": 6,
     "metadata": {},
     "output_type": "execute_result"
    }
   ],
   "source": [
    "\n",
    "pesos = []\n",
    "for i in range (len(alturas)):\n",
    "    #Gerando números aleatórios em distribuição uniforme de -5 a 5\n",
    "    #Números negativos serão transformados em positivos devido ao abs\n",
    "    distribuicao = abs(round(float(uniform(-5,5)),2))\n",
    "    #armazenando equação\n",
    "    eq= round(alturas[i]*50 + distribuicao,2)\n",
    "    pesos.append(eq) #adicionando valores na lista\n",
    "    \n",
    "len(pesos)"
   ]
  },
  {
   "cell_type": "markdown",
   "metadata": {},
   "source": [
    "### Calculando IMC"
   ]
  },
  {
   "cell_type": "code",
   "execution_count": 7,
   "metadata": {
    "scrolled": true
   },
   "outputs": [
    {
     "data": {
      "text/plain": [
       "3000"
      ]
     },
     "execution_count": 7,
     "metadata": {},
     "output_type": "execute_result"
    }
   ],
   "source": [
    "#Formúla do IMC\n",
    "#Peso/altura**2\n",
    "#Arredondando resultados para duas casas decimais\n",
    "imc = [round(pesos[i]/alturas[i]**2,2) for i in range (amostras)]\n",
    "len(imc)"
   ]
  },
  {
   "cell_type": "markdown",
   "metadata": {},
   "source": [
    "### Gerando sexos"
   ]
  },
  {
   "cell_type": "code",
   "execution_count": 8,
   "metadata": {
    "scrolled": true
   },
   "outputs": [
    {
     "name": "stdout",
     "output_type": "stream",
     "text": [
      "3000\n"
     ]
    }
   ],
   "source": [
    "#variáveis com as duas possibilidades de sexo\n",
    "masc,fem = 'M','F'\n",
    "\n",
    "#random.choice retorna elemento aleatório da lista\n",
    "sexos = [masc if round(np.random.rand()) == 0 else fem for i in range(amostras)]\n",
    "\n",
    "#verificando tamanho\n",
    "print(len(sexos))"
   ]
  },
  {
   "cell_type": "markdown",
   "metadata": {},
   "source": [
    "### Gerando correspondência com problemas cardíacos"
   ]
  },
  {
   "cell_type": "code",
   "execution_count": null,
   "metadata": {},
   "outputs": [],
   "source": [
    "#Fonte: https://progep.ufpb.br/progep/contents/em-destaque/dia-mundial-de-combate-e-prevencao-da-obesidade\n",
    "#IMC >40. Obesidade Grau III\n",
    "#IMC > 35. Obesidade Grau II\n",
    "#IMC > 30. Obesidade Grau I\n",
    "#IMC >25 E IMC<30. Sobrepeso, possiveis problemas cardiacos"
   ]
  },
  {
   "cell_type": "code",
   "execution_count": 9,
   "metadata": {},
   "outputs": [
    {
     "name": "stdout",
     "output_type": "stream",
     "text": [
      "3000\n"
     ]
    }
   ],
   "source": [
    "#LEGENDA: S= SIM,POSSUI PROBLEMAS CARDIACOS, P = PROVALVEMENTE POSSUI\n",
    "# R = REMOTAMANTE POSSUI, N = NÃO POSSUI\n",
    "\n",
    "\n",
    "cardiacos = []\n",
    "for i in range (len(imc)):\n",
    "    if imc[i] >= 40:\n",
    "        cardiacos.append(\"S\")\n",
    "    elif imc[i] >= 30 and imc[i]< 40:\n",
    "        cardiacos.append(\"P\")\n",
    "    elif imc[i] <30 and imc[i] >=25:\n",
    "        cardiacos.append(\"R\")\n",
    "    elif imc[i] < 25:\n",
    "        cardiacos.append(\"N\")\n",
    "        \n",
    "print(len(cardiacos))#verificando tamanho"
   ]
  },
  {
   "cell_type": "markdown",
   "metadata": {},
   "source": [
    "### Gerando tabelas e funções"
   ]
  },
  {
   "cell_type": "code",
   "execution_count": 10,
   "metadata": {},
   "outputs": [
    {
     "data": {
      "text/html": [
       "<div>\n",
       "<style scoped>\n",
       "    .dataframe tbody tr th:only-of-type {\n",
       "        vertical-align: middle;\n",
       "    }\n",
       "\n",
       "    .dataframe tbody tr th {\n",
       "        vertical-align: top;\n",
       "    }\n",
       "\n",
       "    .dataframe thead th {\n",
       "        text-align: right;\n",
       "    }\n",
       "</style>\n",
       "<table border=\"1\" class=\"dataframe\">\n",
       "  <thead>\n",
       "    <tr style=\"text-align: right;\">\n",
       "      <th></th>\n",
       "      <th>Altura</th>\n",
       "      <th>Peso</th>\n",
       "      <th>IMC</th>\n",
       "      <th>Sexo</th>\n",
       "      <th>Problema_cardiaco</th>\n",
       "    </tr>\n",
       "  </thead>\n",
       "  <tbody>\n",
       "    <tr>\n",
       "      <th>0</th>\n",
       "      <td>1.667236</td>\n",
       "      <td>85.31</td>\n",
       "      <td>30.69</td>\n",
       "      <td>M</td>\n",
       "      <td>P</td>\n",
       "    </tr>\n",
       "    <tr>\n",
       "      <th>1</th>\n",
       "      <td>2.041185</td>\n",
       "      <td>103.8</td>\n",
       "      <td>24.91</td>\n",
       "      <td>F</td>\n",
       "      <td>N</td>\n",
       "    </tr>\n",
       "    <tr>\n",
       "      <th>2</th>\n",
       "      <td>2.128508</td>\n",
       "      <td>106.61</td>\n",
       "      <td>23.53</td>\n",
       "      <td>F</td>\n",
       "      <td>N</td>\n",
       "    </tr>\n",
       "    <tr>\n",
       "      <th>3</th>\n",
       "      <td>1.319983</td>\n",
       "      <td>69.15</td>\n",
       "      <td>39.69</td>\n",
       "      <td>M</td>\n",
       "      <td>P</td>\n",
       "    </tr>\n",
       "    <tr>\n",
       "      <th>4</th>\n",
       "      <td>1.943283</td>\n",
       "      <td>99.73</td>\n",
       "      <td>26.41</td>\n",
       "      <td>M</td>\n",
       "      <td>R</td>\n",
       "    </tr>\n",
       "    <tr>\n",
       "      <th>...</th>\n",
       "      <td>...</td>\n",
       "      <td>...</td>\n",
       "      <td>...</td>\n",
       "      <td>...</td>\n",
       "      <td>...</td>\n",
       "    </tr>\n",
       "    <tr>\n",
       "      <th>2995</th>\n",
       "      <td>1.487424</td>\n",
       "      <td>75.25</td>\n",
       "      <td>34.01</td>\n",
       "      <td>F</td>\n",
       "      <td>P</td>\n",
       "    </tr>\n",
       "    <tr>\n",
       "      <th>2996</th>\n",
       "      <td>1.454509</td>\n",
       "      <td>76.49</td>\n",
       "      <td>36.16</td>\n",
       "      <td>F</td>\n",
       "      <td>P</td>\n",
       "    </tr>\n",
       "    <tr>\n",
       "      <th>2997</th>\n",
       "      <td>1.808132</td>\n",
       "      <td>94.63</td>\n",
       "      <td>28.94</td>\n",
       "      <td>M</td>\n",
       "      <td>R</td>\n",
       "    </tr>\n",
       "    <tr>\n",
       "      <th>2998</th>\n",
       "      <td>2.009336</td>\n",
       "      <td>101.22</td>\n",
       "      <td>25.07</td>\n",
       "      <td>M</td>\n",
       "      <td>R</td>\n",
       "    </tr>\n",
       "    <tr>\n",
       "      <th>2999</th>\n",
       "      <td>1.936424</td>\n",
       "      <td>99.22</td>\n",
       "      <td>26.46</td>\n",
       "      <td>M</td>\n",
       "      <td>R</td>\n",
       "    </tr>\n",
       "  </tbody>\n",
       "</table>\n",
       "<p>3000 rows × 5 columns</p>\n",
       "</div>"
      ],
      "text/plain": [
       "        Altura    Peso    IMC Sexo Problema_cardiaco\n",
       "0     1.667236   85.31  30.69    M                 P\n",
       "1     2.041185   103.8  24.91    F                 N\n",
       "2     2.128508  106.61  23.53    F                 N\n",
       "3     1.319983   69.15  39.69    M                 P\n",
       "4     1.943283   99.73  26.41    M                 R\n",
       "...        ...     ...    ...  ...               ...\n",
       "2995  1.487424   75.25  34.01    F                 P\n",
       "2996  1.454509   76.49  36.16    F                 P\n",
       "2997  1.808132   94.63  28.94    M                 R\n",
       "2998  2.009336  101.22  25.07    M                 R\n",
       "2999  1.936424   99.22  26.46    M                 R\n",
       "\n",
       "[3000 rows x 5 columns]"
      ]
     },
     "execution_count": 10,
     "metadata": {},
     "output_type": "execute_result"
    }
   ],
   "source": [
    "#Unindo as listas\n",
    "dados = alturas,pesos,imc,sexos,cardiacos\n",
    "\n",
    "#Armazenando dados no dataframe\n",
    "df = pd.DataFrame(dados, index=['Altura','Peso','IMC','Sexo','Problema_cardiaco']).T\n",
    "df"
   ]
  },
  {
   "cell_type": "code",
   "execution_count": 40,
   "metadata": {},
   "outputs": [],
   "source": [
    "#Convertendo para arquivo csv\n",
    "df.to_csv('df.csv')"
   ]
  },
  {
   "cell_type": "code",
   "execution_count": 33,
   "metadata": {},
   "outputs": [],
   "source": [
    "#Funções de medidas de tendência central\n",
    "\n",
    "def media(coluna):\n",
    "    #Retorna média com valor arredondado em duas casas\n",
    "    return round(np.average(coluna),2)\n",
    "    \n",
    "def variancia(coluna):\n",
    "    #Retorna variância\n",
    "    return round(np.var(coluna),2)\n",
    "\n",
    "def desvio_padrao(coluna):\n",
    "    #Retorna o desvio padrão\n",
    "    return round(np.std(coluna),2)\n",
    "\n",
    "def mediana(coluna):\n",
    "    \n",
    "    #Retorna mediana com valor arredondado\n",
    "    return round(median(coluna),2)\n",
    "    \n",
    "\n",
    "def frequencia(coluna,dado):\n",
    "    contador = 0\n",
    "    for valores in coluna:\n",
    "        if valores == dado:\n",
    "            contador+=1\n",
    "    percentual = round((contador/3000*100),2)\n",
    "    return f'Existem {contador} {dado}, logo o percentual é {percentual}'\n",
    "    "
   ]
  },
  {
   "cell_type": "code",
   "execution_count": 16,
   "metadata": {},
   "outputs": [
    {
     "name": "stdout",
     "output_type": "stream",
     "text": [
      "A média das alturas é 1.73\n",
      "A média dos pesos é 88.96\n",
      "A média dos IMC é 30.78\n",
      "\n",
      "\n",
      "A mediana das alturas é 1.73\n",
      "A mediana dos pesos é 89.17\n",
      "A mediana dos IMC é 29.68\n"
     ]
    }
   ],
   "source": [
    "#Média e mediana\n",
    "\n",
    "print(f'A média das alturas é {media(df.Altura)}')\n",
    "print(f'A média dos pesos é {media(df.Peso)}')\n",
    "print(f'A média dos IMC é {media(df.IMC)}')\n",
    "print('\\n')\n",
    "print(f'A mediana das alturas é {mediana(df.Altura)}')\n",
    "print(f'A mediana dos pesos é {mediana(df.Peso)}')\n",
    "print(f'A mediana dos IMC é {mediana(df.IMC)}')"
   ]
  },
  {
   "cell_type": "code",
   "execution_count": 17,
   "metadata": {},
   "outputs": [
    {
     "name": "stdout",
     "output_type": "stream",
     "text": [
      "A variância das alturas é 0.09\n",
      "A variância dos pesos é 225.99\n",
      "A variância dos IMC é 36.8\n",
      "\n",
      "\n",
      "O desvio padrão das alturas é 0.3\n",
      "O desvio padrão dos pesos é 15.03\n",
      "O desvio padrão dos IMC é 6.07\n"
     ]
    }
   ],
   "source": [
    "#Variância e desvio padrão\n",
    "\n",
    "print(f'A variância das alturas é {variancia(df.Altura)}')\n",
    "print(f'A variância dos pesos é {variancia(df.Peso)}')\n",
    "print(f'A variância dos IMC é {variancia(df.IMC)}')\n",
    "print('\\n')\n",
    "print(f'O desvio padrão das alturas é {desvio_padrao(df.Altura)}')\n",
    "print(f'O desvio padrão dos pesos é {desvio_padrao(df.Peso)}')\n",
    "print(f'O desvio padrão dos IMC é {desvio_padrao(df.IMC)}')"
   ]
  },
  {
   "cell_type": "code",
   "execution_count": 18,
   "metadata": {},
   "outputs": [
    {
     "name": "stdout",
     "output_type": "stream",
     "text": [
      "Existem 1499 M, logo o percentual é 49.97\n",
      "Existem 1501 F, logo o percentual é 50.03\n",
      "\n",
      "\n",
      "Existem 233 S, logo o percentual é 7.77\n",
      "Existem 1198 P, logo o percentual é 39.93\n",
      "Existem 1134 R, logo o percentual é 37.8\n",
      "Existem 435 N, logo o percentual é 14.5\n"
     ]
    }
   ],
   "source": [
    "#Frequências dos sexos e problemas cardíacos\n",
    "\n",
    "print(frequencia(df.Sexo,'M'))\n",
    "print(frequencia(df.Sexo,'F'))\n",
    "print('\\n')\n",
    "#LEGENDA: S= SIM,POSSUI PROBLEMAS CARDIACOS, P = PROVALVEMENTE POSSUI\n",
    "# R = REMOTAMANTE POSSUI, N = NÃO POSSUI\n",
    "print(frequencia(df.Problema_cardiaco,'S'))\n",
    "print(frequencia(df.Problema_cardiaco,'P'))\n",
    "print(frequencia(df.Problema_cardiaco,'R'))\n",
    "print(frequencia(df.Problema_cardiaco,'N'))"
   ]
  },
  {
   "cell_type": "code",
   "execution_count": 44,
   "metadata": {},
   "outputs": [
    {
     "name": "stdout",
     "output_type": "stream",
     "text": [
      "Percentual de homens com problemas cardíacos 3.7\n",
      "Percentual de mulheres com problemas cardiácos 4.07\n",
      "\n",
      "\n",
      "Percentual de homens sem problemas cardíacos 7.27\n",
      "Percentual de mulheres sem problemas cardiácos 7.23\n"
     ]
    }
   ],
   "source": [
    "#Frequencia de homens e mulheres com e provávies problemas cardíacos\n",
    "sexos_cardiacos=zip(df.Sexo,df.Problema_cardiaco)\n",
    "lista_cardiacos = list(sexos_cardiacos)\n",
    "\n",
    "#Possibilidades\n",
    "nao_m = ('M', 'N') #MASCULINO SEM PROBLEMA\n",
    "sim_m = ('M', 'S') #MASCULINO COM PROBLEMA\n",
    "nao_f = ('F', 'N') #FEMININO SEM PROBLEMA\n",
    "sim_f = ('F','S') # FEMININO COM PROBLEMA\n",
    "\n",
    "cont_ms=0 #MASCILINO SIM\n",
    "cont_fs=0# FEMININO SIM\n",
    "cont_fn=0#FEMININO NAO\n",
    "cont_mn=0#MASCULINO NAO\n",
    "for i in lista_cardiacos:\n",
    "    if sim_m == i:\n",
    "        cont_ms+=1\n",
    "    if sim_f == i:\n",
    "        cont_fs+=1\n",
    "    if nao_f ==i:\n",
    "        cont_fn+=1\n",
    "    if nao_m ==i:\n",
    "        cont_mn+=1\n",
    "        \n",
    "\n",
    "print(f'Percentual de homens com problemas cardíacos {round((cont_ms/3000*100),2)}')\n",
    "print(f'Percentual de mulheres com problemas cardiácos {round((cont_fs/3000*100),2)}')\n",
    "print('\\n')\n",
    "print(f'Percentual de homens sem problemas cardíacos {round((cont_mn/3000*100),2)}')\n",
    "print(f'Percentual de mulheres sem problemas cardiácos {round((cont_fn/3000*100),2)}')"
   ]
  },
  {
   "cell_type": "markdown",
   "metadata": {},
   "source": [
    "### Conclusão"
   ]
  },
  {
   "cell_type": "markdown",
   "metadata": {},
   "source": [
    "Em uma amostra com uma população de 3000 e média de altura de 1.73 mas com média de pesos de 88% somente 7% da população apresentou o IMC acima de 40, indicando fortes relações com problemas cardíacos.\n",
    "\n",
    "No entanto 39% da população apresentou riscos prováveis, enquanto outros 37% apresentaram chances remotas pois são classificados com Sobrepeso de acordo com o IMC. Já 14% foram classificados sem riscos de problemas cardíacos\n",
    "\n",
    "Outro dado curioso que é possível observar são as mulheres com percentual de 4% com problemas cardiacos enquanto homens representam 3%, margens bem similiares para o experimento realizado."
   ]
  }
 ],
 "metadata": {
  "kernelspec": {
   "display_name": "Python 3",
   "language": "python",
   "name": "python3"
  },
  "language_info": {
   "codemirror_mode": {
    "name": "ipython",
    "version": 3
   },
   "file_extension": ".py",
   "mimetype": "text/x-python",
   "name": "python",
   "nbconvert_exporter": "python",
   "pygments_lexer": "ipython3",
   "version": "3.7.3"
  }
 },
 "nbformat": 4,
 "nbformat_minor": 2
}
