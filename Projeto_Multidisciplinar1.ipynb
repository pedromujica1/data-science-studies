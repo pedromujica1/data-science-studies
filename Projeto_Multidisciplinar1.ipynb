{
 "cells": [
  {
   "cell_type": "markdown",
   "metadata": {},
   "source": [
    "# Aula 23 - Projeto Multidisciplinar I"
   ]
  },
  {
   "cell_type": "markdown",
   "metadata": {},
   "source": [
    "## Apresentação e discussão"
   ]
  },
  {
   "cell_type": "markdown",
   "metadata": {},
   "source": [
    "O Projeto Multidisciplinar I consiste na simulação de dados envolvendo pesos e alturas de indivíduos, calculando o IMC (índice de Massa Corporal) e relacionando com dados simulados sobre existência de problemas cardíacos. A simulação deverá contar com dados pseudoaleatórios gerados por simulação computacional e deverá haver correspondência entre problemas cardiácos com a medida do IMC. Ou seja, iremos supor que exista uma correspondência óbvia entre as medidas (modelada matematicamente por equção e coeificentes arbitrariamente definidos). Para cada sexo (sendo eles definidos de forma aleatória).\n",
    "\n",
    "Você, portanto, simulará via randomização (aleatoriedade) as alturas dentro de uma faixa bem definida. Em seguida, aplicará uma equação que determine, com algum grau de aleatoriedade, os pesos dos indivíduos. Logo depois, calculará o IMC e definirá para cada indivíduo a existência (sim ou não) de problemas cardiácos, ambos com algum grau mnimo de correspondência com o IMC.\n",
    "\n",
    "Ao final, faça as análises necessárias com medidas de dispersão e de tendência central. Crie as funções para tal. E interprete os IMCs obtido conforme WHO (Organização Mundial da Saúde).\n",
    "\n",
    "Os dados devem estar reunidos em uma tabela. Todas as técnicas aplicadas aqui são vistas na Aula 22."
   ]
  },
  {
   "cell_type": "markdown",
   "metadata": {},
   "source": [
    "### Importando bibliotecas "
   ]
  },
  {
   "cell_type": "code",
   "execution_count": 1,
   "metadata": {
    "scrolled": true
   },
   "outputs": [],
   "source": [
    "import numpy as np #Importando biblioteca numpy\n",
    "from random import * #Importando biblioteca para randommização\n",
    "import pandas as pd #Importando Pandas\n",
    "from sympy import * #Importando biblioteca para escrever equações\n",
    "import matplotlib.pyplot as plt #Biblioteca para plotagem de gráficos\n"
   ]
  },
  {
   "cell_type": "markdown",
   "metadata": {},
   "source": [
    "### Gerando alturas"
   ]
  },
  {
   "cell_type": "code",
   "execution_count": 13,
   "metadata": {},
   "outputs": [],
   "source": [
    "#Parâmetros iniciais\n",
    "amostras = 3000 #Tamanho da amostra\n",
    "media= 1.73\n",
    "desvio = 0.30\n",
    "\n",
    "\n",
    "#Gerando alturas aleatórias \n",
    "alturas = np.random.normal(media,desvio,amostras)\n",
    "alturas = alturas.tolist()"
   ]
  },
  {
   "cell_type": "markdown",
   "metadata": {},
   "source": [
    "### Gerando Pesos"
   ]
  },
  {
   "cell_type": "code",
   "execution_count": 14,
   "metadata": {},
   "outputs": [
    {
     "data": {
      "text/latex": [
       "$\\displaystyle 50 alturas_{i} + \\left|{n_{i}}\\right|$"
      ],
      "text/plain": [
       "50*alturas_i + Abs(n_i)"
      ]
     },
     "execution_count": 14,
     "metadata": {},
     "output_type": "execute_result"
    }
   ],
   "source": [
    "#Equação para gerar pesos\n",
    "x1 = symbols('alturas_i')\n",
    "x2 = symbols('n_i')\n",
    "equation = symbols('pesos')\n",
    "\n",
    "#Abs para evitar números aleatórios negativos\n",
    "equation = x1*50 + abs(x2)\n",
    "equation"
   ]
  },
  {
   "cell_type": "code",
   "execution_count": 22,
   "metadata": {},
   "outputs": [
    {
     "data": {
      "text/plain": [
       "3000"
      ]
     },
     "execution_count": 22,
     "metadata": {},
     "output_type": "execute_result"
    }
   ],
   "source": [
    "\n",
    "pesos = []\n",
    "for i in range (len(alturas)):\n",
    "    #Gerando números aleatórios em distribuição uniforme de -5 a 5\n",
    "    #Números negativos serão transformados em positivos devido ao abs\n",
    "    distribuicao = abs(round(float(uniform(-5,5)),2))\n",
    "    #armazenando equação\n",
    "    eq= round(alturas[i]*50 + distribuicao,2)\n",
    "    pesos.append(eq) #adicionando valores na lista\n",
    "    \n",
    "len(pesos)"
   ]
  },
  {
   "cell_type": "markdown",
   "metadata": {},
   "source": [
    "### Calculando IMC"
   ]
  },
  {
   "cell_type": "code",
   "execution_count": 25,
   "metadata": {
    "scrolled": true
   },
   "outputs": [
    {
     "data": {
      "text/plain": [
       "3000"
      ]
     },
     "execution_count": 25,
     "metadata": {},
     "output_type": "execute_result"
    }
   ],
   "source": [
    "#Formúla do IMC\n",
    "#Peso/altura**2\n",
    "#Arredondando resultados para duas casas decimais\n",
    "imc = [round(pesos[i]/alturas[i]**2,2) for i in range (amostras)]\n",
    "len(imc)"
   ]
  },
  {
   "cell_type": "markdown",
   "metadata": {},
   "source": [
    "### Gerando sexos"
   ]
  },
  {
   "cell_type": "code",
   "execution_count": 37,
   "metadata": {
    "scrolled": true
   },
   "outputs": [
    {
     "name": "stdout",
     "output_type": "stream",
     "text": [
      "3000\n"
     ]
    }
   ],
   "source": [
    "#variáveis com as duas possibilidades de sexo\n",
    "masc,fem = 'M','F'\n",
    "\n",
    "#random.choice retorna elemento aleatório da lista\n",
    "sexos = [masc if round(np.random.rand()) == 0 else fem for i in range(amostras)]\n",
    "\n",
    "#verificando tamanho\n",
    "print(len(sexos))"
   ]
  },
  {
   "cell_type": "markdown",
   "metadata": {},
   "source": [
    "### Gerando correspondência com problemas cardíacos"
   ]
  },
  {
   "cell_type": "code",
   "execution_count": null,
   "metadata": {},
   "outputs": [],
   "source": [
    "#Fonte: https://progep.ufpb.br/progep/contents/em-destaque/dia-mundial-de-combate-e-prevencao-da-obesidade\n",
    "#IMC >40. Obesidade Grau III\n",
    "#IMC > 35. Obesidade Grau II\n",
    "#IMC > 30. Obesidade Grau I\n",
    "#IMC >25 E IMC<30. Sobrepeso, possiveis problemas cardiacos"
   ]
  },
  {
   "cell_type": "code",
   "execution_count": 36,
   "metadata": {},
   "outputs": [
    {
     "name": "stdout",
     "output_type": "stream",
     "text": [
      "3000\n"
     ]
    }
   ],
   "source": [
    "#LEGENDA: S= SIM,POSSUI PROBLEMAS CARDIACOS, P = PROVALVEMENTE POSSUI\n",
    "# R = REMOTAMANTE POSSUI, N = NÃO POSSUI\n",
    "\n",
    "\n",
    "cardiacos = []\n",
    "for i in range (len(imc)):\n",
    "    if imc[i] >= 40:\n",
    "        cardiacos.append(\"S\")\n",
    "    elif imc[i] >= 30 and imc[i]< 40:\n",
    "        cardiacos.append(\"P\")\n",
    "    elif imc[i] <30 and imc[i] >=25:\n",
    "        cardiacos.append(\"R\")\n",
    "    elif imc[i] < 25:\n",
    "        cardiacos.append(\"N\")\n",
    "        \n",
    "print(len(cardiacos))#verificando tamanho"
   ]
  },
  {
   "cell_type": "markdown",
   "metadata": {},
   "source": [
    "### Gerando tabelas e funções"
   ]
  },
  {
   "cell_type": "code",
   "execution_count": 39,
   "metadata": {},
   "outputs": [
    {
     "data": {
      "text/html": [
       "<div>\n",
       "<style scoped>\n",
       "    .dataframe tbody tr th:only-of-type {\n",
       "        vertical-align: middle;\n",
       "    }\n",
       "\n",
       "    .dataframe tbody tr th {\n",
       "        vertical-align: top;\n",
       "    }\n",
       "\n",
       "    .dataframe thead th {\n",
       "        text-align: right;\n",
       "    }\n",
       "</style>\n",
       "<table border=\"1\" class=\"dataframe\">\n",
       "  <thead>\n",
       "    <tr style=\"text-align: right;\">\n",
       "      <th></th>\n",
       "      <th>Altura</th>\n",
       "      <th>Peso</th>\n",
       "      <th>IMC</th>\n",
       "      <th>Sexo</th>\n",
       "      <th>Problema cardiaco</th>\n",
       "    </tr>\n",
       "  </thead>\n",
       "  <tbody>\n",
       "    <tr>\n",
       "      <th>0</th>\n",
       "      <td>1.975965</td>\n",
       "      <td>103.53</td>\n",
       "      <td>26.52</td>\n",
       "      <td>F</td>\n",
       "      <td>R</td>\n",
       "    </tr>\n",
       "    <tr>\n",
       "      <th>1</th>\n",
       "      <td>2.038725</td>\n",
       "      <td>106.68</td>\n",
       "      <td>25.67</td>\n",
       "      <td>F</td>\n",
       "      <td>R</td>\n",
       "    </tr>\n",
       "    <tr>\n",
       "      <th>2</th>\n",
       "      <td>1.646826</td>\n",
       "      <td>85.39</td>\n",
       "      <td>31.49</td>\n",
       "      <td>F</td>\n",
       "      <td>P</td>\n",
       "    </tr>\n",
       "    <tr>\n",
       "      <th>3</th>\n",
       "      <td>1.970746</td>\n",
       "      <td>102.92</td>\n",
       "      <td>26.5</td>\n",
       "      <td>F</td>\n",
       "      <td>R</td>\n",
       "    </tr>\n",
       "    <tr>\n",
       "      <th>4</th>\n",
       "      <td>1.995408</td>\n",
       "      <td>104.15</td>\n",
       "      <td>26.16</td>\n",
       "      <td>M</td>\n",
       "      <td>R</td>\n",
       "    </tr>\n",
       "    <tr>\n",
       "      <th>...</th>\n",
       "      <td>...</td>\n",
       "      <td>...</td>\n",
       "      <td>...</td>\n",
       "      <td>...</td>\n",
       "      <td>...</td>\n",
       "    </tr>\n",
       "    <tr>\n",
       "      <th>2995</th>\n",
       "      <td>1.972774</td>\n",
       "      <td>102.35</td>\n",
       "      <td>26.3</td>\n",
       "      <td>M</td>\n",
       "      <td>R</td>\n",
       "    </tr>\n",
       "    <tr>\n",
       "      <th>2996</th>\n",
       "      <td>1.841377</td>\n",
       "      <td>94.12</td>\n",
       "      <td>27.76</td>\n",
       "      <td>M</td>\n",
       "      <td>R</td>\n",
       "    </tr>\n",
       "    <tr>\n",
       "      <th>2997</th>\n",
       "      <td>1.777349</td>\n",
       "      <td>93.52</td>\n",
       "      <td>29.6</td>\n",
       "      <td>M</td>\n",
       "      <td>R</td>\n",
       "    </tr>\n",
       "    <tr>\n",
       "      <th>2998</th>\n",
       "      <td>1.943456</td>\n",
       "      <td>99.83</td>\n",
       "      <td>26.43</td>\n",
       "      <td>M</td>\n",
       "      <td>R</td>\n",
       "    </tr>\n",
       "    <tr>\n",
       "      <th>2999</th>\n",
       "      <td>1.917051</td>\n",
       "      <td>99.95</td>\n",
       "      <td>27.2</td>\n",
       "      <td>M</td>\n",
       "      <td>R</td>\n",
       "    </tr>\n",
       "  </tbody>\n",
       "</table>\n",
       "<p>3000 rows × 5 columns</p>\n",
       "</div>"
      ],
      "text/plain": [
       "        Altura    Peso    IMC Sexo Problema cardiaco\n",
       "0     1.975965  103.53  26.52    F                 R\n",
       "1     2.038725  106.68  25.67    F                 R\n",
       "2     1.646826   85.39  31.49    F                 P\n",
       "3     1.970746  102.92   26.5    F                 R\n",
       "4     1.995408  104.15  26.16    M                 R\n",
       "...        ...     ...    ...  ...               ...\n",
       "2995  1.972774  102.35   26.3    M                 R\n",
       "2996  1.841377   94.12  27.76    M                 R\n",
       "2997  1.777349   93.52   29.6    M                 R\n",
       "2998  1.943456   99.83  26.43    M                 R\n",
       "2999  1.917051   99.95   27.2    M                 R\n",
       "\n",
       "[3000 rows x 5 columns]"
      ]
     },
     "execution_count": 39,
     "metadata": {},
     "output_type": "execute_result"
    }
   ],
   "source": [
    "#Unindo as listas\n",
    "dados = alturas,pesos,imc,sexos,cardiacos\n",
    "\n",
    "df = pd.DataFrame(dados, index=['Altura','Peso','IMC','Sexo','Problema cardiaco']).T\n",
    "df"
   ]
  },
  {
   "cell_type": "code",
   "execution_count": 40,
   "metadata": {},
   "outputs": [],
   "source": [
    "#Convertendo para arquivo csv\n",
    "df.to_csv('df.csv')"
   ]
  },
  {
   "cell_type": "code",
   "execution_count": null,
   "metadata": {},
   "outputs": [],
   "source": [
    "#Função para calcular média das colunas\n",
    "def media(coluna):\n",
    "    pass\n",
    "def variancia(coluna):\n",
    "    pass\n",
    "def desvio_padrao(coluna):\n",
    "    pass\n",
    "def mediana(coluna):\n",
    "    pass\n",
    "def coorelacao_person():\n",
    "    pass\n",
    "def frequencias()"
   ]
  },
  {
   "cell_type": "markdown",
   "metadata": {},
   "source": [
    "### Conclusão"
   ]
  },
  {
   "cell_type": "code",
   "execution_count": null,
   "metadata": {},
   "outputs": [],
   "source": []
  }
 ],
 "metadata": {
  "kernelspec": {
   "display_name": "Python 3",
   "language": "python",
   "name": "python3"
  },
  "language_info": {
   "codemirror_mode": {
    "name": "ipython",
    "version": 3
   },
   "file_extension": ".py",
   "mimetype": "text/x-python",
   "name": "python",
   "nbconvert_exporter": "python",
   "pygments_lexer": "ipython3",
   "version": "3.7.3"
  }
 },
 "nbformat": 4,
 "nbformat_minor": 2
}
