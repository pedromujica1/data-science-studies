{
 "cells": [
  {
   "cell_type": "markdown",
   "metadata": {
    "colab_type": "text",
    "id": "view-in-github"
   },
   "source": [
    "<a href=\"https://colab.research.google.com/github/pedromujica1/data-science-studies/blob/main/idades_medias.ipynb\" target=\"_parent\"><img src=\"https://colab.research.google.com/assets/colab-badge.svg\" alt=\"Open In Colab\"/></a>"
   ]
  },
  {
   "cell_type": "code",
   "execution_count": null,
   "metadata": {
    "colab": {
     "base_uri": "https://localhost:8080/"
    },
    "id": "6_z43WCY-c_0",
    "outputId": "c41749bd-b4cb-4cdd-8144-0b570d1e94a1"
   },
   "outputs": [
    {
     "name": "stdout",
     "output_type": "stream",
     "text": [
      "Requirement already satisfied: scipy in /usr/local/lib/python3.10/dist-packages (1.11.4)\n",
      "Requirement already satisfied: numpy<1.28.0,>=1.21.6 in /usr/local/lib/python3.10/dist-packages (from scipy) (1.23.5)\n"
     ]
    }
   ],
   "source": [
    "#Pacotes necessários\n",
    "from statistics import *\n",
    "from scipy import *\n",
    "import pandas as pd\n",
    "import numpy as np\n",
    "!pip install scipy\n",
    "#COORELAÇÃO\n",
    "from scipy import stats"
   ]
  },
  {
   "cell_type": "code",
   "execution_count": null,
   "metadata": {
    "id": "3FPvRWg--cv0"
   },
   "outputs": [],
   "source": [
    "lista_notas = [8,7,7,7,7,8,5,2,4,4,10,10,10,10,4,6,7,7,7,8]\n",
    "lista_idades = [10,11,12,9,10,11,10,10,10,10,11,11,10,9,10,10,11,11,10,10]"
   ]
  },
  {
   "cell_type": "code",
   "execution_count": null,
   "metadata": {
    "colab": {
     "base_uri": "https://localhost:8080/"
    },
    "id": "svhEICsR_PpL",
    "outputId": "bbf44f5c-13e5-4b08-8e0a-8d81eda51806"
   },
   "outputs": [
    {
     "name": "stdout",
     "output_type": "stream",
     "text": [
      "A médias das notas é: 6.9 \n",
      "A mediana das notas é: 7.0 \n",
      "A médias das idades é: 10.3 \n",
      "A mediana das idades é: 10.0 \n"
     ]
    }
   ],
   "source": [
    "#Calculando a média e a mediana para as notas\n",
    "print(f'A médias das notas é: {mean(lista_notas)} ')\n",
    "print(f'A mediana das notas é: {median(lista_notas)} ')\n",
    "\n",
    "#Calculando a média e mediana para as idades\n",
    "print(f'A médias das idades é: {mean(lista_idades)} ')\n",
    "print(f'A mediana das idades é: {median(lista_idades)} ')"
   ]
  },
  {
   "cell_type": "code",
   "execution_count": null,
   "metadata": {
    "colab": {
     "base_uri": "https://localhost:8080/"
    },
    "id": "jwmUGZZEAy7Q",
    "outputId": "eaac6167-2873-4cc4-db58-63145992392d"
   },
   "outputs": [
    {
     "name": "stdout",
     "output_type": "stream",
     "text": [
      "{'notas': [8, 7, 7, 7, 7, 8, 5, 2, 4, 4, 10, 10, 10, 10, 4, 6, 7, 7, 7, 8], 'idades': [10, 11, 12, 9, 10, 11, 10, 10, 10, 10, 11, 11, 10, 9, 10, 10, 11, 11, 10, 10]}\n"
     ]
    }
   ],
   "source": [
    "dict_notas_idades = {'notas': lista_notas,'idades': lista_idades}\n",
    "print(dict_notas_idades)"
   ]
  },
  {
   "cell_type": "code",
   "execution_count": null,
   "metadata": {
    "colab": {
     "base_uri": "https://localhost:8080/"
    },
    "id": "2FyKW16rBIjj",
    "outputId": "c6f62dd6-eb15-46f5-cbb4-d5a85070c01a"
   },
   "outputs": [
    {
     "name": "stdout",
     "output_type": "stream",
     "text": [
      "    notas  idades\n",
      "0       8      10\n",
      "1       7      11\n",
      "2       7      12\n",
      "3       7       9\n",
      "4       7      10\n",
      "5       8      11\n",
      "6       5      10\n",
      "7       2      10\n",
      "8       4      10\n",
      "9       4      10\n",
      "10     10      11\n",
      "11     10      11\n",
      "12     10      10\n",
      "13     10       9\n",
      "14      4      10\n",
      "15      6      10\n",
      "16      7      11\n",
      "17      7      11\n",
      "18      7      10\n",
      "19      8      10\n"
     ]
    }
   ],
   "source": [
    "df = pd.DataFrame(dict_notas_idades)\n",
    "print(df)"
   ]
  },
  {
   "cell_type": "code",
   "execution_count": null,
   "metadata": {
    "colab": {
     "base_uri": "https://localhost:8080/"
    },
    "id": "WKRS4S95By7L",
    "outputId": "ec740cb5-e019-4a23-e332-7b3a80273d19"
   },
   "outputs": [
    {
     "name": "stdout",
     "output_type": "stream",
     "text": [
      "5.3\n"
     ]
    }
   ],
   "source": [
    "#50% inferior\n",
    "\n",
    "#Notas\n",
    "#Ascending significa crescente\n",
    "#Pega do 0 ao 10 menores\n",
    "media_menores= mean(df.notas.sort_values(ascending=True) [0:10])\n",
    "print(media_menores)"
   ]
  },
  {
   "cell_type": "code",
   "execution_count": null,
   "metadata": {
    "colab": {
     "base_uri": "https://localhost:8080/"
    },
    "id": "ZQiQLGYGCt8r",
    "outputId": "49530946-bd30-4a51-dace-04bd6a9d7f05"
   },
   "outputs": [
    {
     "name": "stdout",
     "output_type": "stream",
     "text": [
      "8.5\n"
     ]
    }
   ],
   "source": [
    "#50% superior\n",
    "\n",
    "#Notas\n",
    "#Ascending significa crescente\n",
    "#Pega do 0 ao 10 menores\n",
    "media_maiores= mean(df.notas.sort_values(ascending=True) [10:20])\n",
    "print(media_maiores)"
   ]
  },
  {
   "cell_type": "code",
   "execution_count": null,
   "metadata": {
    "colab": {
     "base_uri": "https://localhost:8080/"
    },
    "id": "vuKFHUSdDSxr",
    "outputId": "e61689ee-2cda-4757-efa5-feddea8af9cb"
   },
   "outputs": [
    {
     "name": "stdout",
     "output_type": "stream",
     "text": [
      "9.8\n"
     ]
    }
   ],
   "source": [
    "#50% inferior IDADES\n",
    "\n",
    "#Notas\n",
    "#Ascending ordena do menor para maior\n",
    "#Pega do 0 ao 10 menores\n",
    "media_menores= mean(df.idades.sort_values(ascending=True) [0:10])\n",
    "print(media_menores)"
   ]
  },
  {
   "cell_type": "code",
   "execution_count": null,
   "metadata": {
    "colab": {
     "base_uri": "https://localhost:8080/"
    },
    "id": "jI1xDLjsDTC0",
    "outputId": "e98b390e-a5f0-4342-86c9-8032f4207d08"
   },
   "outputs": [
    {
     "name": "stdout",
     "output_type": "stream",
     "text": [
      "10.8\n"
     ]
    }
   ],
   "source": [
    "#50% superior IDADES\n",
    "\n",
    "#Notas\n",
    "#Ascending significa crescente\n",
    "#Pega do 0 ao 10 menores\n",
    "media_maiores= mean(df.idades.sort_values(ascending=True) [10:20])\n",
    "print(media_maiores)"
   ]
  },
  {
   "cell_type": "code",
   "execution_count": null,
   "metadata": {
    "colab": {
     "base_uri": "https://localhost:8080/"
    },
    "id": "yB9NTwQtDw5f",
    "outputId": "a01f34c6-6294-414b-dcf2-1dc25e9e0d32"
   },
   "outputs": [
    {
     "name": "stdout",
     "output_type": "stream",
     "text": [
      "NOTA MEDIA DAS NOTAS PARA AS PESSOAS COM AS 50% MENORES IDADES: 6.5\n"
     ]
    }
   ],
   "source": [
    "\n",
    "#MÉDIA DAS NOTAS PARA AS 50% MENORES IDADES\n",
    "df_ordenado_idades = df.sort_values(by=['idades'])\n",
    "df_recorte_menores_idades = df_ordenado_idades[0:10]\n",
    "media = mean(df_recorte_menores_idades.notas)\n",
    "print(f'NOTA MEDIA DAS NOTAS PARA AS PESSOAS COM AS 50% MENORES IDADES: {media}')\n"
   ]
  },
  {
   "cell_type": "code",
   "execution_count": null,
   "metadata": {
    "colab": {
     "base_uri": "https://localhost:8080/"
    },
    "id": "fRpZ5FwqE_Gh",
    "outputId": "bf382780-c7b2-4e8e-e54e-41ada47b424c"
   },
   "outputs": [
    {
     "name": "stdout",
     "output_type": "stream",
     "text": [
      "NOTA MEDIA DAS NOTAS PARA AS PESSOAS COM AS 50% MENORES IDADES 7.3\n"
     ]
    }
   ],
   "source": [
    "\n",
    "#MÉDIA DAS NOTAS PARA AS 50% MAIORES IDADES\n",
    "df_ordenado_idades = df.sort_values(by=['idades'])\n",
    "df_recorte_maiores_idades = df_ordenado_idades[10:20]\n",
    "media = mean(df_recorte_maiores_idades.notas)\n",
    "print(f'NOTA MEDIA DAS NOTAS PARA AS PESSOAS COM AS 50% MENORES IDADES {media}')\n"
   ]
  },
  {
   "cell_type": "code",
   "execution_count": null,
   "metadata": {
    "colab": {
     "base_uri": "https://localhost:8080/"
    },
    "id": "q-IsVJYlFP0A",
    "outputId": "f59b6033-efee-4c22-a040-90fac53448dd"
   },
   "outputs": [
    {
     "name": "stdout",
     "output_type": "stream",
     "text": [
      "    notas  idades\n",
      "3       7       9\n",
      "13     10       9\n",
      "0       8      10\n",
      "15      6      10\n",
      "14      4      10\n",
      "12     10      10\n",
      "18      7      10\n",
      "8       4      10\n",
      "9       4      10\n",
      "6       5      10\n",
      "4       7      10\n",
      "7       2      10\n",
      "19      8      10\n",
      "10     10      11\n",
      "11     10      11\n",
      "5       8      11\n",
      "1       7      11\n",
      "16      7      11\n",
      "17      7      11\n",
      "2       7      12\n"
     ]
    }
   ],
   "source": [
    "print(df_ordenado_idades)"
   ]
  },
  {
   "cell_type": "code",
   "execution_count": null,
   "metadata": {
    "colab": {
     "base_uri": "https://localhost:8080/"
    },
    "id": "pNX7X0T5FaZ-",
    "outputId": "c65161ea-6104-4ddc-9909-e7a0b4aa8fc7"
   },
   "outputs": [
    {
     "name": "stdout",
     "output_type": "stream",
     "text": [
      "Coeficiente de variação das notas: 31.72%\n"
     ]
    }
   ],
   "source": [
    "#COEFICIENTE DE VARIAÇÃO\n",
    "cv_notas = np.std(lista_notas) / mean(lista_notas)\n",
    "print(f'Coeficiente de variação das notas: {cv_notas*100:.2f}%')"
   ]
  },
  {
   "cell_type": "code",
   "execution_count": null,
   "metadata": {
    "colab": {
     "base_uri": "https://localhost:8080/"
    },
    "id": "5D5tYSL0GWWx",
    "outputId": "9e90dcb5-495e-4079-8664-a83cb498d034"
   },
   "outputs": [
    {
     "name": "stdout",
     "output_type": "stream",
     "text": [
      "Coeficiente de variação das notas: 6.93%\n"
     ]
    }
   ],
   "source": [
    "#COEFICIENTE DE VARIAÇÃO\n",
    "cv_idades = np.std(lista_idades) / mean(lista_idades)\n",
    "print(f'Coeficiente de variação das notas: {cv_idades*100:.2f}%')"
   ]
  },
  {
   "cell_type": "code",
   "execution_count": null,
   "metadata": {
    "colab": {
     "base_uri": "https://localhost:8080/"
    },
    "id": "x_8qkKJnIT4Z",
    "outputId": "07a96816-d42a-43fe-befb-fde492cae32c"
   },
   "outputs": [
    {
     "name": "stdout",
     "output_type": "stream",
     "text": [
      "PearsonRResult(statistic=0.1471549892294896, pvalue=0.5358452517595163)\n"
     ]
    }
   ],
   "source": [
    "#Coorelação de Pearson\n",
    "coorelacao = stats.pearsonr(df.notas,df.idades)\n",
    "print(coorelacao)"
   ]
  },
  {
   "cell_type": "code",
   "execution_count": null,
   "metadata": {
    "colab": {
     "base_uri": "https://localhost:8080/"
    },
    "id": "Wdu7Om-g1AJ2",
    "outputId": "87142ca7-9720-4c22-8663-14a5c9aa70fd"
   },
   "outputs": [
    {
     "name": "stdout",
     "output_type": "stream",
     "text": [
      "18 anos e a media de idade\n",
      "Teste\n"
     ]
    }
   ],
   "source": [
    "#Médias e medianas - Notas e idades\n",
    "idade_lucas=0\n",
    "idade_lucas += 18\n",
    "\n",
    "idade_carolina = idade_lucas+1\n",
    "\n",
    "idade_carolina -= 1\n",
    "\n",
    "if ((idade_lucas+idade_carolina) / 2 == 18):\n",
    "\n",
    "   print(\"18 anos e a media de idade\")\n",
    "\n",
    "else:\n",
    "\n",
    "   print(\"Pelo menos um nao tem 18 anos\")\n",
    "\n",
    "print(\"Teste\")\n"
   ]
  }
 ],
 "metadata": {
  "colab": {
   "authorship_tag": "ABX9TyOoXMeBzAikDMdE+3OmdcCl",
   "include_colab_link": true,
   "provenance": []
  },
  "kernelspec": {
   "display_name": "Python 3",
   "language": "python",
   "name": "python3"
  },
  "language_info": {
   "codemirror_mode": {
    "name": "ipython",
    "version": 3
   },
   "file_extension": ".py",
   "mimetype": "text/x-python",
   "name": "python",
   "nbconvert_exporter": "python",
   "pygments_lexer": "ipython3",
   "version": "3.7.3"
  }
 },
 "nbformat": 4,
 "nbformat_minor": 1
}
